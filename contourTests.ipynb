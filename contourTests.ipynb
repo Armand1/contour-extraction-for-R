{
 "cells": [
  {
   "cell_type": "markdown",
   "metadata": {},
   "source": [
    "### Imports"
   ]
  },
  {
   "cell_type": "code",
   "execution_count": 1,
   "metadata": {},
   "outputs": [],
   "source": [
    "import numpy as np\n",
    "import pandas as pd\n",
    "from copy import deepcopy\n",
    "import os\n",
    "import matplotlib.image as mpimg\n",
    "import matplotlib.pyplot as plt\n",
    "from cont_extraction import binarize\n",
    "from cont_extraction import get_outline_contour\n",
    "from cont_extraction import load_resize_image\n",
    "from cont_extraction import snakeSmooth\n",
    "from cont_extraction import choose_contour\n",
    "from objSymmetrize import procrustes\n",
    "from objSymmetrize import reorderPoints\n",
    "from objSymmetrize import symmetrize\n",
    "from objSymmetrize import rescale"
   ]
  },
  {
   "cell_type": "markdown",
   "metadata": {},
   "source": [
    "### Test - Part 1 - Contour Extraction / Smoothing\n",
    "\n",
    "We test out the contour extraction with a sample of vases in a folder, _pth_.\n",
    "\n",
    "We go through each fil do the following:\n",
    "1. Load and resize image.\n",
    "1. Binarize and obtain 2 binarized images.\n",
    "1. Get two sets of contours, one for each binarized image.\n",
    "1. Choose the best contour.\n",
    "1. Smooth the contour."
   ]
  },
  {
   "cell_type": "code",
   "execution_count": 3,
   "metadata": {},
   "outputs": [
    {
     "name": "stdout",
     "output_type": "stream",
     "text": [
      "Extracted contours from 4 images!\n"
     ]
    }
   ],
   "source": [
    "filenames = []\n",
    "smoothedContours = []\n",
    "pth = \"C:\\\\Users\\\\arian\\\\Downloads\\\\testVases\"\n",
    "for file in os.listdir(pth):\n",
    "    filenames.append(file)\n",
    "    # 1) Load and resize image:\n",
    "    img = load_resize_image(pth+\"\\\\\"+file,resize=0.7)\n",
    "    # 2) Binarize\n",
    "    mpx,mpy,finalImages = binarize(img,white_or_black='both')\n",
    "    # 3) Find outline contours:\n",
    "    x1,y1 = get_outline_contour(finalImages[0],mpx,mpy)\n",
    "    x2,y2 = get_outline_contour(finalImages[1],mpx,mpy)\n",
    "    # 4) Choose best contour:\n",
    "    x,y = choose_contour(x1,y1,x2,y2)\n",
    "    # 5) Basic contour smoothing:\n",
    "    xs,ys = snakeSmooth(img,x,y)\n",
    "    # 6) Save contours into list:\n",
    "    smoothedContours.append([xs,ys])\n",
    "    \n",
    "n = len(filenames)\n",
    "\n",
    "print(\"Extracted contours from \"+str(n)+\" images!\")"
   ]
  },
  {
   "cell_type": "markdown",
   "metadata": {},
   "source": [
    "### Test - Part 2 - Symmetrization / Reordering"
   ]
  },
  {
   "cell_type": "code",
   "execution_count": 4,
   "metadata": {},
   "outputs": [
    {
     "name": "stdout",
     "output_type": "stream",
     "text": [
      "Computing Karcher Mean of 2 curves in SRVF space..\n",
      "updating step: 1\n",
      "updating step: 2\n",
      "Computing Karcher Mean of 2 curves in SRVF space..\n",
      "updating step: 1\n",
      "updating step: 2\n",
      "Computing Karcher Mean of 2 curves in SRVF space..\n",
      "updating step: 1\n",
      "updating step: 2\n",
      "Computing Karcher Mean of 2 curves in SRVF space..\n",
      "updating step: 1\n",
      "updating step: 2\n",
      "Symmetrized 4 contours!\n"
     ]
    }
   ],
   "source": [
    "symmetrizedContours = []\n",
    "\n",
    "n = len(filenames)\n",
    "\n",
    "for i in range(0,n):\n",
    "    x = smoothedContours[i][0]\n",
    "    y = smoothedContours[i][1]\n",
    "    # 1) Symmetrize (and cut ends if desired -- it is the default)\n",
    "    xsym,ysym = symmetrize(x,y,cutEnds=True,reparamPoints=250)\n",
    "    # 2) Reorder (and rotate 180 degrees if neccessary -- it is the default)\n",
    "    newx,newy = reorderPoints(xsym,ysym,rotate=True)\n",
    "    symmetrizedContours.append([newx,newy])\n",
    "    \n",
    "print(\"Symmetrized \"+str(n)+\" contours!\")"
   ]
  },
  {
   "cell_type": "markdown",
   "metadata": {},
   "source": [
    "### Test - Part 3 - Procrustes\n",
    "\n",
    "We Procrustes align the vases to a template. Here, for now, the template will just be the first vase."
   ]
  },
  {
   "cell_type": "code",
   "execution_count": 5,
   "metadata": {},
   "outputs": [
    {
     "name": "stdout",
     "output_type": "stream",
     "text": [
      "Procrustes aligned 4 contours\n"
     ]
    }
   ],
   "source": [
    "alignedContours = []\n",
    "# 1) Set the template to be the first vase and that to the final list of aligned contours:\n",
    "F0 = np.column_stack([symmetrizedContours[0][0],symmetrizedContours[0][1]])\n",
    "alignedContours.append([symmetrizedContours[0][0],symmetrizedContours[0][1]])\n",
    "\n",
    "# 2) Go through all the other vases and Procrustes align to the template vase:\n",
    "for i in range(1,n):\n",
    "    F = np.column_stack([symmetrizedContours[i][0],symmetrizedContours[i][1]])\n",
    "    _,Fp,_,_,_ = procrustes(F0,F)\n",
    "    # 3) Rescale to make sure it's within the desired range:\n",
    "    xp,yp = rescale(Fp[:,0],Fp[:,1])\n",
    "    alignedContours.append([xp,yp])\n",
    "    \n",
    "print(\"Procrustes aligned \"+str(n)+\" contours\")"
   ]
  },
  {
   "cell_type": "markdown",
   "metadata": {},
   "source": [
    "### Saving Examples\n",
    "\n",
    "Examples of how to save contours as a CSV in a loop."
   ]
  },
  {
   "cell_type": "markdown",
   "metadata": {},
   "source": [
    "#### Example 1: Saving the original smooth contours (unequal contour lengths)"
   ]
  },
  {
   "cell_type": "code",
   "execution_count": 6,
   "metadata": {},
   "outputs": [],
   "source": [
    "namesRepeated = []\n",
    "xCoordinates = []\n",
    "yCoordinates = []\n",
    "pointNumbers = []\n",
    "\n",
    "for i,name in enumerate(filenames):\n",
    "    x = smoothedContours[i][0]\n",
    "    y = smoothedContours[i][1]\n",
    "    length = len(x)\n",
    "    # 1) Add the filename to the list (repeated 'length' times):\n",
    "    namesRepeated.extend([name]*length)\n",
    "    # 2) Add point numbers:\n",
    "    pointNumbers.extend(list(range(1,length+1)))\n",
    "    # 3) Add the x and y coordinates to the list:\n",
    "    xCoordinates.extend(x)\n",
    "    yCoordinates.extend(y)\n",
    "    \n",
    "# 4) Save into Pandas dataframe:\n",
    "smoothedDF = pd.DataFrame([namesRepeated,xCoordinates,yCoordinates,pointNumbers]).T\n",
    "# 5) Rename columns:\n",
    "smoothedDF = smoothedDF.rename(columns={0:'Filename',1:'X',2:'Y',3:'pointOrder'})\n",
    "# 6) Save as CSV:\n",
    "smoothedDF.to_csv('smoothedContours.csv',index=False)"
   ]
  },
  {
   "cell_type": "markdown",
   "metadata": {},
   "source": [
    "#### Example 2: Saving the final symmetrized / aligned contours (equal contour lengths)"
   ]
  },
  {
   "cell_type": "code",
   "execution_count": 7,
   "metadata": {},
   "outputs": [],
   "source": [
    "length = 250\n",
    "\n",
    "data = np.zeros((3,n*length))\n",
    "\n",
    "# 1) Create dataframe with names:\n",
    "dfNames = pd.DataFrame([nm for name in filenames for nm in [name]*length])\n",
    "dfNames = dfNames.rename(columns={0:'Filename'})\n",
    "\n",
    "\n",
    "for i,name in enumerate(filenames):\n",
    "    x = alignedContours[i][0]\n",
    "    y = alignedContours[i][1]\n",
    "    data[0,length*i:length*(i+1)] = x # 2) Add x coordinates\n",
    "    data[1,length*i:length*(i+1)] = y # 3) Add y coordinates\n",
    "    data[2,length*i:length*(i+1)] = list(range(1,length+1)) # 4) Add point numbers\n",
    "    \n",
    "dfData = pd.DataFrame(data).T\n",
    "dfData = dfData.rename(columns={0:'X',1:'Y',2:'pointOrder'})\n",
    "\n",
    "\n",
    "# 5) Merge the two dataframes to create one final dataframe:\n",
    "alignedDF = pd.concat([dfNames,dfData],axis=1)\n",
    "\n",
    "# 6) Save as CSV:\n",
    "alignedDF.to_csv('alignedContours.csv',index=False)"
   ]
  },
  {
   "cell_type": "markdown",
   "metadata": {},
   "source": [
    "### Plotting Examples"
   ]
  },
  {
   "cell_type": "markdown",
   "metadata": {},
   "source": [
    "#### Example 1: Images with contours overlayed\n",
    "Here, we'll save individual plots in a loop, into a separate folder.\n",
    "<br>Note that the path of the desired folder needs to be specified."
   ]
  },
  {
   "cell_type": "code",
   "execution_count": 8,
   "metadata": {},
   "outputs": [],
   "source": [
    "originalPath = \"C:\\\\Users\\\\arian\\\\Downloads\\\\testVases\\\\\"\n",
    "newPath = \"C:\\\\Users\\\\arian\\\\Downloads\\\\Contours\\\\\"\n",
    "\n",
    "for i,file in enumerate(filenames):\n",
    "    img = load_resize_image(originalPath+file,resize=0.7)\n",
    "    x = smoothedContours[i][0]\n",
    "    y = smoothedContours[i][1]\n",
    "    fig,ax = plt.subplots()\n",
    "    ax.imshow(img,cmap='gray')\n",
    "    ax.plot(x,y,'-r',linewidth=2)\n",
    "    ax.axis('off')\n",
    "    plt.savefig(newPath+'Contour_'+file,bbox_inches = 'tight',pad_inches=0.0)\n",
    "    plt.close()\n"
   ]
  },
  {
   "cell_type": "markdown",
   "metadata": {},
   "source": [
    "#### Example 2: Contours in same plot\n",
    "Here, we'll save one plot with n subplots.\n",
    "<br>This time we'll save it as a pdf."
   ]
  },
  {
   "cell_type": "code",
   "execution_count": 9,
   "metadata": {},
   "outputs": [
    {
     "data": {
      "image/png": "[encoded data removed]",
      "text/plain": [
       "<Figure size 864x216 with 4 Axes>"
      ]
     },
     "metadata": {
      "needs_background": "light"
     },
     "output_type": "display_data"
    }
   ],
   "source": [
    "n = len(filenames)\n",
    "\n",
    "fig,ax = plt.subplots(1,n,figsize=(3*n,3))\n",
    "\n",
    "for n,file in enumerate(filenames):\n",
    "    x = alignedContours[n][0]\n",
    "    y = alignedContours[n][1]\n",
    "    ax[n].plot(x,y,'-b')\n",
    "    ax[n].set_xlim([-1.6,1.6])\n",
    "    ax[n].set_ylim([-1.6,1.6])\n",
    "    ax[n].axis('off')\n",
    "    ax[n].set_title(file)\n",
    "    \n",
    "plt.savefig('Symmetrized_Vases_Example.pdf',dpi=600,bbox_inches='tight',pad_inches=0.5)"
   ]
  },
  {
   "cell_type": "code",
   "execution_count": null,
   "metadata": {},
   "outputs": [],
   "source": []
  }
 ],
 "metadata": {
  "kernelspec": {
   "display_name": "Python 3",
   "language": "python",
   "name": "python3"
  },
  "language_info": {
   "codemirror_mode": {
    "name": "ipython",
    "version": 3
   },
   "file_extension": ".py",
   "mimetype": "text/x-python",
   "name": "python",
   "nbconvert_exporter": "python",
   "pygments_lexer": "ipython3",
   "version": "3.7.1"
  }
 },
 "nbformat": 4,
 "nbformat_minor": 4
}
